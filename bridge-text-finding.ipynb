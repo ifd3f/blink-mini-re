{
 "cells": [
  {
   "cell_type": "code",
   "execution_count": 1,
   "id": "ec3c4cad",
   "metadata": {},
   "outputs": [],
   "source": [
    "import ghidra_bridge\n",
    "\n",
    "# Activate Ghidra bridge, and use global namespace\n",
    "bridge = ghidra_bridge.GhidraBridge(namespace=globals())"
   ]
  },
  {
   "cell_type": "code",
   "execution_count": 2,
   "id": "f9b78aeb",
   "metadata": {},
   "outputs": [
    {
     "name": "stdout",
     "output_type": "stream",
     "text": [
      "LAB_00003026  src:[]  dst:[]\n",
      "00004232  src:[]  dst:[0000426e, 0000424e]\n",
      "0000424e  src:[00004232]  dst:[0000426e]\n",
      "LAB_0000426e  src:[00004232, 0000424e]  dst:[]\n",
      "00004e00  src:[]  dst:[00004e04, 00004e02]\n",
      "00004e02  src:[00004e00]  dst:[00004e04]\n",
      "LAB_00004e04  src:[00004e00, 00004e02]  dst:[00004e08, 00004e06]\n",
      "00004e06  src:[00004e04]  dst:[00004e08]\n",
      "LAB_00004e08  src:[00004e04, 00004e06]  dst:[00004e0c, 00004e0a]\n",
      "00004e0a  src:[00004e08]  dst:[00004e0c]\n"
     ]
    }
   ],
   "source": [
    "from itertools import *\n",
    "        \n",
    "BasicBlockModel = ghidra.program.model.block.BasicBlockModel\n",
    "TaskMonitor = ghidra.util.task.TaskMonitor\n",
    "\n",
    "bbm = BasicBlockModel(currentProgram)\n",
    "blocks = bbm.getCodeBlocks(TaskMonitor.DUMMY)\n",
    "\n",
    "for i in islice(blocks, 10):\n",
    "    print(i)"
   ]
  },
  {
   "cell_type": "code",
   "execution_count": 15,
   "id": "496a1539",
   "metadata": {},
   "outputs": [
    {
     "name": "stdout",
     "output_type": "stream",
     "text": [
      "ldr r3,[0x0019e7e8]\n",
      "mnemonic: ldr\n",
      "input objects: [<_bridged_ghidra.program.model.address.GenericAddress('0019e7e8', type=ghidra.program.model.address.GenericAddress, handle=9dc6044a-fe2b-4f28-8310-1d4bbf03af2f)>]\n",
      "refers to the ptr we expect? True\n",
      "\n",
      "result objects: r3\n"
     ]
    }
   ],
   "source": [
    "Address = ghidra.program.model.address.Address\n",
    "GenericAddress = ghidra.program.model.address.GenericAddress\n",
    "\n",
    "FlatProgramAPI = ghidra.program.flatapi.FlatProgramAPI\n",
    "\n",
    "load_inst_addr = toAddr(0x0019e778)  # a load instruction used before ptr deref, which we will base off of.\n",
    "ptr_imm_addr = toAddr(0x0019e7e8)  # a 32-bit immediate, stored in ROM, holding the ptr location\n",
    "\n",
    "papi = FlatProgramAPI(currentProgram)\n",
    "\n",
    "inst = papi.getInstructionAt(load_inst_addr)\n",
    "print(str(inst))\n",
    "print('mnemonic:', inst.getMnemonicString())\n",
    "\n",
    "inputs = inst.getInputObjects()  # the address\n",
    "print('input objects:', list(inputs))\n",
    "print('refers to the ptr we expect?', args[0] == ptr_imm_addr)\n",
    "print()\n",
    "\n",
    "results = inst.getResultObjects()[0]\n",
    "print('result objects:', results)  # a register"
   ]
  },
  {
   "cell_type": "code",
   "execution_count": 17,
   "id": "cc4fff5e",
   "metadata": {},
   "outputs": [
    {
     "data": {
      "text/plain": [
       "<_bridged_ghidra.program.model.block.CodeBlockImpl('0019e776  src:[0019e764]  dst:[001978b8, 0019e7d8, 0019e798]', type=ghidra.program.model.block.CodeBlockImpl, handle=6021dff9-7c61-4ea8-96cf-ce83b65dd952)>"
      ]
     },
     "execution_count": 17,
     "metadata": {},
     "output_type": "execute_result"
    }
   ],
   "source": [
    "# Find the next use of the address (preferably a load)\n",
    "block = bbm.getFirstCodeBlockContaining(inst.getAddress(), TaskMonitor.DUMMY)\n",
    "block."
   ]
  },
  {
   "cell_type": "code",
   "execution_count": 4,
   "id": "5d8267d2",
   "metadata": {},
   "outputs": [
    {
     "name": "stdout",
     "output_type": "stream",
     "text": [
      "<_bridged_ghidra.program.model.address.GenericAddress('00038415', type=ghidra.program.model.address.GenericAddress, handle=dae9a168-5c8c-40d3-a9a7-fe4390a63b88)>\n"
     ]
    },
    {
     "data": {
      "text/plain": [
       "<_bridged_ghidra.program.database.references.MemReferenceDB('From: 0019e7e8 To: 00038415 Type: DATA Op: 0 DEFAULT', type=ghidra.program.database.references.MemReferenceDB, handle=568fa815-3a6e-4043-a5bd-e734b280f61c)>"
      ]
     },
     "execution_count": 4,
     "metadata": {},
     "output_type": "execute_result"
    }
   ],
   "source": [
    "data = papi.getDataAt(ptr_imm_addr)\n",
    "print(repr(data.getValue()))\n",
    "refFrom = data.getReferencesFrom()[0]\n",
    "refFrom"
   ]
  },
  {
   "cell_type": "code",
   "execution_count": 5,
   "id": "80e234db",
   "metadata": {},
   "outputs": [],
   "source": [
    "refTo = list(data.getReferenceIteratorTo())[0]"
   ]
  },
  {
   "cell_type": "code",
   "execution_count": 6,
   "id": "2ad92e03",
   "metadata": {},
   "outputs": [
    {
     "data": {
      "text/plain": [
       "<_bridged_ghidra.program.database.code.InstructionDB('ldr r3,[0x0019e7e8]', type=ghidra.program.database.code.InstructionDB, handle=777c2bfa-e260-435e-b59d-7b51419e9fff)>"
      ]
     },
     "execution_count": 6,
     "metadata": {},
     "output_type": "execute_result"
    }
   ],
   "source": [
    "inst."
   ]
  },
  {
   "cell_type": "code",
   "execution_count": 15,
   "id": "d0414c90",
   "metadata": {},
   "outputs": [
    {
     "ename": "KeyboardInterrupt",
     "evalue": "",
     "output_type": "error",
     "traceback": [
      "\u001b[0;31m---------------------------------------------------------------------------\u001b[0m",
      "\u001b[0;31mKeyboardInterrupt\u001b[0m                         Traceback (most recent call last)",
      "Input \u001b[0;32mIn [15]\u001b[0m, in \u001b[0;36m<cell line: 1>\u001b[0;34m()\u001b[0m\n\u001b[0;32m----> 1\u001b[0m all_word_loads \u001b[38;5;241m=\u001b[39m bridge\u001b[38;5;241m.\u001b[39mremote_eval(\u001b[38;5;124m'''\u001b[39m\n\u001b[1;32m      2\u001b[0m \u001b[38;5;124m[\u001b[39m\n\u001b[1;32m      3\u001b[0m \u001b[38;5;124m    i\u001b[39m\n\u001b[1;32m      4\u001b[0m \u001b[38;5;124m    for i in currentProgram.getListing().getInstructions(True)\u001b[39m\n\u001b[1;32m      5\u001b[0m \u001b[38;5;124m    if i.getMnemonicString() == \u001b[39m\u001b[38;5;124m'\u001b[39m\u001b[38;5;124mldr\u001b[39m\u001b[38;5;124m'\u001b[39m\n\u001b[1;32m      6\u001b[0m \u001b[38;5;124m]\u001b[39m\n\u001b[1;32m      7\u001b[0m \u001b[38;5;124m'''\u001b[39m, papi\u001b[38;5;241m=\u001b[39mpapi)\n",
      "File \u001b[0;32m~/.cache/pypoetry/virtualenvs/blink-re-qe2La8XD-py3.10/lib/python3.10/site-packages/jfx_bridge/bridge.py:1800\u001b[0m, in \u001b[0;36mBridgeClient.remote_eval\u001b[0;34m(self, eval_string, timeout_override, **kwargs)\u001b[0m\n\u001b[1;32m   1789\u001b[0m \u001b[38;5;28;01mdef\u001b[39;00m \u001b[38;5;21mremote_eval\u001b[39m(\u001b[38;5;28mself\u001b[39m, eval_string, timeout_override\u001b[38;5;241m=\u001b[39m\u001b[38;5;28;01mNone\u001b[39;00m, \u001b[38;5;241m*\u001b[39m\u001b[38;5;241m*\u001b[39mkwargs):\n\u001b[1;32m   1790\u001b[0m     \u001b[38;5;124;03m\"\"\"\u001b[39;00m\n\u001b[1;32m   1791\u001b[0m \u001b[38;5;124;03m    Takes an expression as an argument and evaluates it entirely on the server.\u001b[39;00m\n\u001b[1;32m   1792\u001b[0m \u001b[38;5;124;03m    Example: b.bridge.remote_eval('[ f.name for f in currentProgram.functionManager.getFunctions(True)]')\u001b[39;00m\n\u001b[0;32m   (...)\u001b[0m\n\u001b[1;32m   1798\u001b[0m \u001b[38;5;124;03m    To provide arguments into the eval context, supply them as keyword arguments with names matching the names used in the eval string (e.g., remote_eval(\"x+1\", x=2))\u001b[39;00m\n\u001b[1;32m   1799\u001b[0m \u001b[38;5;124;03m    \"\"\"\u001b[39;00m\n\u001b[0;32m-> 1800\u001b[0m     \u001b[38;5;28;01mreturn\u001b[39;00m \u001b[38;5;28;43mself\u001b[39;49m\u001b[38;5;241;43m.\u001b[39;49m\u001b[43mclient\u001b[49m\u001b[38;5;241;43m.\u001b[39;49m\u001b[43mremote_eval\u001b[49m\u001b[43m(\u001b[49m\n\u001b[1;32m   1801\u001b[0m \u001b[43m        \u001b[49m\u001b[43meval_string\u001b[49m\u001b[43m,\u001b[49m\u001b[43m \u001b[49m\u001b[43mtimeout_override\u001b[49m\u001b[38;5;241;43m=\u001b[39;49m\u001b[43mtimeout_override\u001b[49m\u001b[43m,\u001b[49m\u001b[43m \u001b[49m\u001b[38;5;241;43m*\u001b[39;49m\u001b[38;5;241;43m*\u001b[39;49m\u001b[43mkwargs\u001b[49m\n\u001b[1;32m   1802\u001b[0m \u001b[43m    \u001b[49m\u001b[43m)\u001b[49m\n",
      "File \u001b[0;32m~/.cache/pypoetry/virtualenvs/blink-re-qe2La8XD-py3.10/lib/python3.10/site-packages/jfx_bridge/bridge.py:194\u001b[0m, in \u001b[0;36mstats_hit.<locals>.wrapper\u001b[0;34m(self, *args, **kwargs)\u001b[0m\n\u001b[1;32m    192\u001b[0m \u001b[38;5;28;01mif\u001b[39;00m \u001b[38;5;28mself\u001b[39m\u001b[38;5;241m.\u001b[39mstats \u001b[38;5;129;01mis\u001b[39;00m \u001b[38;5;129;01mnot\u001b[39;00m \u001b[38;5;28;01mNone\u001b[39;00m:\n\u001b[1;32m    193\u001b[0m     \u001b[38;5;28mself\u001b[39m\u001b[38;5;241m.\u001b[39mstats\u001b[38;5;241m.\u001b[39madd_hit(func\u001b[38;5;241m.\u001b[39m\u001b[38;5;18m__name__\u001b[39m)\n\u001b[0;32m--> 194\u001b[0m \u001b[38;5;28;01mreturn\u001b[39;00m \u001b[43mfunc\u001b[49m\u001b[43m(\u001b[49m\u001b[38;5;28;43mself\u001b[39;49m\u001b[43m,\u001b[49m\u001b[43m \u001b[49m\u001b[38;5;241;43m*\u001b[39;49m\u001b[43margs\u001b[49m\u001b[43m,\u001b[49m\u001b[43m \u001b[49m\u001b[38;5;241;43m*\u001b[39;49m\u001b[38;5;241;43m*\u001b[39;49m\u001b[43mkwargs\u001b[49m\u001b[43m)\u001b[49m\n",
      "File \u001b[0;32m~/.cache/pypoetry/virtualenvs/blink-re-qe2La8XD-py3.10/lib/python3.10/site-packages/jfx_bridge/bridge.py:1331\u001b[0m, in \u001b[0;36mBridgeConn.remote_eval\u001b[0;34m(self, eval_string, timeout_override, **kwargs)\u001b[0m\n\u001b[1;32m   1329\u001b[0m \u001b[38;5;28;01mif\u001b[39;00m timeout_override \u001b[38;5;129;01mis\u001b[39;00m \u001b[38;5;28;01mNone\u001b[39;00m:\n\u001b[1;32m   1330\u001b[0m     timeout_override \u001b[38;5;241m=\u001b[39m \u001b[38;5;28mself\u001b[39m\u001b[38;5;241m.\u001b[39mresponse_timeout \u001b[38;5;241m*\u001b[39m \u001b[38;5;241m100\u001b[39m\n\u001b[0;32m-> 1331\u001b[0m result \u001b[38;5;241m=\u001b[39m \u001b[38;5;28;43mself\u001b[39;49m\u001b[38;5;241;43m.\u001b[39;49m\u001b[43msend_cmd\u001b[49m\u001b[43m(\u001b[49m\u001b[43mcommand_dict\u001b[49m\u001b[43m,\u001b[49m\u001b[43m \u001b[49m\u001b[43mtimeout_override\u001b[49m\u001b[38;5;241;43m=\u001b[39;49m\u001b[43mtimeout_override\u001b[49m\u001b[43m)\u001b[49m\n\u001b[1;32m   1333\u001b[0m \u001b[38;5;28;01mreturn\u001b[39;00m \u001b[38;5;28mself\u001b[39m\u001b[38;5;241m.\u001b[39mdeserialize_from_dict(result)\n",
      "File \u001b[0;32m~/.cache/pypoetry/virtualenvs/blink-re-qe2La8XD-py3.10/lib/python3.10/site-packages/jfx_bridge/bridge.py:207\u001b[0m, in \u001b[0;36mstats_time.<locals>.wrapper\u001b[0;34m(self, *args, **kwargs)\u001b[0m\n\u001b[1;32m    204\u001b[0m \u001b[38;5;129m@functools\u001b[39m\u001b[38;5;241m.\u001b[39mwraps(func)\n\u001b[1;32m    205\u001b[0m \u001b[38;5;28;01mdef\u001b[39;00m \u001b[38;5;21mwrapper\u001b[39m(\u001b[38;5;28mself\u001b[39m, \u001b[38;5;241m*\u001b[39margs, \u001b[38;5;241m*\u001b[39m\u001b[38;5;241m*\u001b[39mkwargs):\n\u001b[1;32m    206\u001b[0m     start_time \u001b[38;5;241m=\u001b[39m time\u001b[38;5;241m.\u001b[39mtime()\n\u001b[0;32m--> 207\u001b[0m     return_val \u001b[38;5;241m=\u001b[39m \u001b[43mfunc\u001b[49m\u001b[43m(\u001b[49m\u001b[38;5;28;43mself\u001b[39;49m\u001b[43m,\u001b[49m\u001b[43m \u001b[49m\u001b[38;5;241;43m*\u001b[39;49m\u001b[43margs\u001b[49m\u001b[43m,\u001b[49m\u001b[43m \u001b[49m\u001b[38;5;241;43m*\u001b[39;49m\u001b[38;5;241;43m*\u001b[39;49m\u001b[43mkwargs\u001b[49m\u001b[43m)\u001b[49m\n\u001b[1;32m    208\u001b[0m     total_time \u001b[38;5;241m=\u001b[39m time\u001b[38;5;241m.\u001b[39mtime() \u001b[38;5;241m-\u001b[39m start_time\n\u001b[1;32m    210\u001b[0m     \u001b[38;5;28;01mif\u001b[39;00m \u001b[38;5;28mself\u001b[39m\u001b[38;5;241m.\u001b[39mstats \u001b[38;5;129;01mis\u001b[39;00m \u001b[38;5;129;01mnot\u001b[39;00m \u001b[38;5;28;01mNone\u001b[39;00m:\n",
      "File \u001b[0;32m~/.cache/pypoetry/virtualenvs/blink-re-qe2La8XD-py3.10/lib/python3.10/site-packages/jfx_bridge/bridge.py:975\u001b[0m, in \u001b[0;36mBridgeConn.send_cmd\u001b[0;34m(self, command_dict, get_response, timeout_override)\u001b[0m\n\u001b[1;32m    973\u001b[0m result \u001b[38;5;241m=\u001b[39m {}\n\u001b[1;32m    974\u001b[0m \u001b[38;5;66;03m# wait for the response\u001b[39;00m\n\u001b[0;32m--> 975\u001b[0m response_dict \u001b[38;5;241m=\u001b[39m \u001b[38;5;28;43mself\u001b[39;49m\u001b[38;5;241;43m.\u001b[39;49m\u001b[43mresponse_mgr\u001b[49m\u001b[38;5;241;43m.\u001b[39;49m\u001b[43mget_response\u001b[49m\u001b[43m(\u001b[49m\n\u001b[1;32m    976\u001b[0m \u001b[43m    \u001b[49m\u001b[43mcmd_id\u001b[49m\u001b[43m,\u001b[49m\n\u001b[1;32m    977\u001b[0m \u001b[43m    \u001b[49m\u001b[43mtimeout\u001b[49m\u001b[38;5;241;43m=\u001b[39;49m\u001b[43mtimeout_override\u001b[49m\n\u001b[1;32m    978\u001b[0m \u001b[43m    \u001b[49m\u001b[38;5;28;43;01mif\u001b[39;49;00m\u001b[43m \u001b[49m\u001b[43mtimeout_override\u001b[49m\u001b[43m \u001b[49m\u001b[38;5;129;43;01mis\u001b[39;49;00m\u001b[43m \u001b[49m\u001b[38;5;129;43;01mnot\u001b[39;49;00m\u001b[43m \u001b[49m\u001b[38;5;28;43;01mNone\u001b[39;49;00m\n\u001b[1;32m    979\u001b[0m \u001b[43m    \u001b[49m\u001b[38;5;28;43;01melse\u001b[39;49;00m\u001b[43m \u001b[49m\u001b[38;5;28;43mself\u001b[39;49m\u001b[38;5;241;43m.\u001b[39;49m\u001b[43mresponse_timeout\u001b[49m\u001b[43m,\u001b[49m\n\u001b[1;32m    980\u001b[0m \u001b[43m\u001b[49m\u001b[43m)\u001b[49m\n\u001b[1;32m    982\u001b[0m \u001b[38;5;28;01mif\u001b[39;00m response_dict \u001b[38;5;129;01mis\u001b[39;00m \u001b[38;5;129;01mnot\u001b[39;00m \u001b[38;5;28;01mNone\u001b[39;00m:\n\u001b[1;32m    983\u001b[0m     \u001b[38;5;28;01mif\u001b[39;00m RESULT \u001b[38;5;129;01min\u001b[39;00m response_dict:\n",
      "File \u001b[0;32m~/.cache/pypoetry/virtualenvs/blink-re-qe2La8XD-py3.10/lib/python3.10/site-packages/jfx_bridge/bridge.py:654\u001b[0m, in \u001b[0;36mBridgeResponseManager.get_response\u001b[0;34m(self, response_id, timeout)\u001b[0m\n\u001b[1;32m    651\u001b[0m     response \u001b[38;5;241m=\u001b[39m \u001b[38;5;28mself\u001b[39m\u001b[38;5;241m.\u001b[39mresponse_dict[response_id]\n\u001b[1;32m    653\u001b[0m \u001b[38;5;66;03m# wait for the data - will throw a BridgeTimeoutException if doesn't get it by timeout\u001b[39;00m\n\u001b[0;32m--> 654\u001b[0m data \u001b[38;5;241m=\u001b[39m \u001b[43mresponse\u001b[49m\u001b[38;5;241;43m.\u001b[39;49m\u001b[43mget\u001b[49m\u001b[43m(\u001b[49m\u001b[43mtimeout\u001b[49m\u001b[43m)\u001b[49m\n\u001b[1;32m    656\u001b[0m \u001b[38;5;28;01mif\u001b[39;00m TYPE \u001b[38;5;129;01min\u001b[39;00m data:\n\u001b[1;32m    657\u001b[0m     \u001b[38;5;28;01mif\u001b[39;00m data[TYPE] \u001b[38;5;241m==\u001b[39m ERROR:\n\u001b[1;32m    658\u001b[0m         \u001b[38;5;66;03m# problem with the bridge itself, raise an exception\u001b[39;00m\n",
      "File \u001b[0;32m~/.cache/pypoetry/virtualenvs/blink-re-qe2La8XD-py3.10/lib/python3.10/site-packages/jfx_bridge/bridge.py:616\u001b[0m, in \u001b[0;36mBridgeResponse.get\u001b[0;34m(self, timeout)\u001b[0m\n\u001b[1;32m    610\u001b[0m \u001b[38;5;28;01mif\u001b[39;00m timeout \u001b[38;5;129;01mis\u001b[39;00m \u001b[38;5;129;01mnot\u001b[39;00m \u001b[38;5;28;01mNone\u001b[39;00m \u001b[38;5;129;01mand\u001b[39;00m timeout \u001b[38;5;241m<\u001b[39m \u001b[38;5;241m0\u001b[39m:\n\u001b[1;32m    611\u001b[0m     \u001b[38;5;66;03m# can't pass in None higher up reliably, as it gets used to indicate \"default timeout\".\u001b[39;00m\n\u001b[1;32m    612\u001b[0m     \u001b[38;5;66;03m# Instead, treat a negative timeout as \"wait forever\", and set timeout to None, so event.wait\u001b[39;00m\n\u001b[1;32m    613\u001b[0m     \u001b[38;5;66;03m# will wait forever.\u001b[39;00m\n\u001b[1;32m    614\u001b[0m     timeout \u001b[38;5;241m=\u001b[39m \u001b[38;5;28;01mNone\u001b[39;00m\n\u001b[0;32m--> 616\u001b[0m \u001b[38;5;28;01mif\u001b[39;00m \u001b[38;5;129;01mnot\u001b[39;00m \u001b[38;5;28;43mself\u001b[39;49m\u001b[38;5;241;43m.\u001b[39;49m\u001b[43mevent\u001b[49m\u001b[38;5;241;43m.\u001b[39;49m\u001b[43mwait\u001b[49m\u001b[43m(\u001b[49m\u001b[43mtimeout\u001b[49m\u001b[43m)\u001b[49m:\n\u001b[1;32m    617\u001b[0m     \u001b[38;5;28;01mraise\u001b[39;00m BridgeTimeoutException(\n\u001b[1;32m    618\u001b[0m         \u001b[38;5;124m\"\u001b[39m\u001b[38;5;124mDidn\u001b[39m\u001b[38;5;124m'\u001b[39m\u001b[38;5;124mt receive response \u001b[39m\u001b[38;5;132;01m{}\u001b[39;00m\u001b[38;5;124m before timeout\u001b[39m\u001b[38;5;124m\"\u001b[39m\u001b[38;5;241m.\u001b[39mformat(\u001b[38;5;28mself\u001b[39m\u001b[38;5;241m.\u001b[39mresponse_id)\n\u001b[1;32m    619\u001b[0m     )\n\u001b[1;32m    621\u001b[0m \u001b[38;5;28;01mreturn\u001b[39;00m \u001b[38;5;28mself\u001b[39m\u001b[38;5;241m.\u001b[39mresponse\n",
      "File \u001b[0;32m/nix/store/hjwdfamsr1i4hgw41ldbj062icdyshvw-python3-3.10.5/lib/python3.10/threading.py:607\u001b[0m, in \u001b[0;36mEvent.wait\u001b[0;34m(self, timeout)\u001b[0m\n\u001b[1;32m    605\u001b[0m signaled \u001b[38;5;241m=\u001b[39m \u001b[38;5;28mself\u001b[39m\u001b[38;5;241m.\u001b[39m_flag\n\u001b[1;32m    606\u001b[0m \u001b[38;5;28;01mif\u001b[39;00m \u001b[38;5;129;01mnot\u001b[39;00m signaled:\n\u001b[0;32m--> 607\u001b[0m     signaled \u001b[38;5;241m=\u001b[39m \u001b[38;5;28;43mself\u001b[39;49m\u001b[38;5;241;43m.\u001b[39;49m\u001b[43m_cond\u001b[49m\u001b[38;5;241;43m.\u001b[39;49m\u001b[43mwait\u001b[49m\u001b[43m(\u001b[49m\u001b[43mtimeout\u001b[49m\u001b[43m)\u001b[49m\n\u001b[1;32m    608\u001b[0m \u001b[38;5;28;01mreturn\u001b[39;00m signaled\n",
      "File \u001b[0;32m/nix/store/hjwdfamsr1i4hgw41ldbj062icdyshvw-python3-3.10.5/lib/python3.10/threading.py:324\u001b[0m, in \u001b[0;36mCondition.wait\u001b[0;34m(self, timeout)\u001b[0m\n\u001b[1;32m    322\u001b[0m \u001b[38;5;28;01melse\u001b[39;00m:\n\u001b[1;32m    323\u001b[0m     \u001b[38;5;28;01mif\u001b[39;00m timeout \u001b[38;5;241m>\u001b[39m \u001b[38;5;241m0\u001b[39m:\n\u001b[0;32m--> 324\u001b[0m         gotit \u001b[38;5;241m=\u001b[39m \u001b[43mwaiter\u001b[49m\u001b[38;5;241;43m.\u001b[39;49m\u001b[43macquire\u001b[49m\u001b[43m(\u001b[49m\u001b[38;5;28;43;01mTrue\u001b[39;49;00m\u001b[43m,\u001b[49m\u001b[43m \u001b[49m\u001b[43mtimeout\u001b[49m\u001b[43m)\u001b[49m\n\u001b[1;32m    325\u001b[0m     \u001b[38;5;28;01melse\u001b[39;00m:\n\u001b[1;32m    326\u001b[0m         gotit \u001b[38;5;241m=\u001b[39m waiter\u001b[38;5;241m.\u001b[39macquire(\u001b[38;5;28;01mFalse\u001b[39;00m)\n",
      "\u001b[0;31mKeyboardInterrupt\u001b[0m: "
     ]
    }
   ],
   "source": [
    "all_word_loads = bridge.remote_eval('''\n",
    "[\n",
    "    i\n",
    "    for i in currentProgram.getListing().getInstructions(True)\n",
    "    if i.getMnemonicString() == 'ldr'\n",
    "]\n",
    "''', papi=papi)"
   ]
  },
  {
   "cell_type": "code",
   "execution_count": null,
   "id": "9054058e",
   "metadata": {},
   "outputs": [],
   "source": [
    "all_word_loads"
   ]
  },
  {
   "cell_type": "code",
   "execution_count": null,
   "id": "79fa8d79",
   "metadata": {},
   "outputs": [],
   "source": []
  }
 ],
 "metadata": {
  "kernelspec": {
   "display_name": "Python 3 (ipykernel)",
   "language": "python",
   "name": "python3"
  },
  "language_info": {
   "codemirror_mode": {
    "name": "ipython",
    "version": 3
   },
   "file_extension": ".py",
   "mimetype": "text/x-python",
   "name": "python",
   "nbconvert_exporter": "python",
   "pygments_lexer": "ipython3",
   "version": "3.10.5"
  }
 },
 "nbformat": 4,
 "nbformat_minor": 5
}
