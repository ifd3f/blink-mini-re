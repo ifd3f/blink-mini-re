{
 "cells": [
  {
   "cell_type": "code",
   "execution_count": 4,
   "id": "c3adaa08",
   "metadata": {},
   "outputs": [],
   "source": [
    "from subprocess import Popen\n",
    "import subprocess\n",
    "\n",
    "\n",
    "def get_strs():\n",
    "    with Popen([\"strings\", \"-tx\", \"-a\", \"flash-dumps/nonempty.bin\"], stdout=subprocess.PIPE) as proc:\n",
    "        for line in proc.stdout.readlines():\n",
    "            l = line[:-1].decode('utf8').lstrip()\n",
    "            space = l.find(' ')\n",
    "            yield int(l[:space], 16), l[space:]\n",
    "\n",
    "strs = list(get_strs())"
   ]
  },
  {
   "cell_type": "code",
   "execution_count": 6,
   "id": "44a202d8",
   "metadata": {},
   "outputs": [
    {
     "data": {
      "text/plain": [
       "19815"
      ]
     },
     "execution_count": 6,
     "metadata": {},
     "output_type": "execute_result"
    }
   ],
   "source": [
    "len(strs)"
   ]
  },
  {
   "cell_type": "code",
   "execution_count": null,
   "id": "ef7f1738",
   "metadata": {},
   "outputs": [],
   "source": []
  }
 ],
 "metadata": {
  "kernelspec": {
   "display_name": "Python 3 (ipykernel)",
   "language": "python",
   "name": "python3"
  },
  "language_info": {
   "codemirror_mode": {
    "name": "ipython",
    "version": 3
   },
   "file_extension": ".py",
   "mimetype": "text/x-python",
   "name": "python",
   "nbconvert_exporter": "python",
   "pygments_lexer": "ipython3",
   "version": "3.10.5"
  }
 },
 "nbformat": 4,
 "nbformat_minor": 5
}
