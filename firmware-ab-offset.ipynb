{
 "cells": [
  {
   "cell_type": "code",
   "execution_count": 5,
   "id": "7812fd43",
   "metadata": {},
   "outputs": [
    {
     "name": "stdout",
     "output_type": "stream",
     "text": [
      "Original length: 0x200000\n",
      "Trimmed length: 0x1f0070\n"
     ]
    }
   ],
   "source": [
    "with open('./flash-dumps/nonempty.bin', 'rb') as f:\n",
    "    fw_full = f.read()\n",
    "    \n",
    "# Trim off the empty bytes\n",
    "for i in range(len(fw_full) - 1, 0, -1):\n",
    "    if fw_full[i] != 0xff:\n",
    "        break\n",
    "fw = fw_full[:i+1]\n",
    "\n",
    "print(f'Original length: 0x{len(fw_full):x}')\n",
    "print(f'Trimmed length: 0x{len(fw):x}')"
   ]
  },
  {
   "cell_type": "code",
   "execution_count": 6,
   "id": "b329c3f8",
   "metadata": {},
   "outputs": [
    {
     "data": {
      "text/plain": [
       "array([ 32,  74,   0, ...,  70, 111,  27], dtype=int8)"
      ]
     },
     "execution_count": 6,
     "metadata": {},
     "output_type": "execute_result"
    }
   ],
   "source": [
    "import numpy as np\n",
    "\n",
    "fwa = np.array(list(fw), dtype=np.byte)\n",
    "fwa"
   ]
  },
  {
   "cell_type": "code",
   "execution_count": 49,
   "id": "f6af8b37",
   "metadata": {},
   "outputs": [],
   "source": [
    "import multiprocessing as mp\n",
    "\n",
    "# Assume each a/b is half the size of full FW\n",
    "app_size = len(fw) // 2\n",
    "app_b_offset = len(fw) // 2\n",
    "fw_indices = range(len(fw))\n",
    "offsets = range(-10000, 10000, 0x4)\n",
    "\n",
    "app_a = fwa[0xbbc8:0xbbc8 + app_size]\n",
    "app_b = fwa[0xdcb00:0xdcb00 + app_size]\n",
    "\n",
    "\n",
    "def similarity_at_offset(offset: int):\n",
    "    size = app_size - abs(offset)\n",
    "    if offset > 0:\n",
    "        a = app_a[:size]\n",
    "        b = app_b[-size:]\n",
    "    else:\n",
    "        a = app_a[-size:]\n",
    "        b = app_b[:size]\n",
    "    return np.sum(np.equal(a, b))\n",
    "\n",
    "\n",
    "with mp.Pool(8) as p:\n",
    "    similarities = p.map(similarity_at_offset, offsets)"
   ]
  },
  {
   "cell_type": "code",
   "execution_count": 50,
   "id": "82785d13",
   "metadata": {},
   "outputs": [
    {
     "data": {
      "image/png": "[encoded data removed]",
      "text/plain": [
       "<Figure size 432x288 with 1 Axes>"
      ]
     },
     "metadata": {
      "needs_background": "light"
     },
     "output_type": "display_data"
    }
   ],
   "source": [
    "import matplotlib.pyplot as plt\n",
    "\n",
    "plt.plot(offsets, similarities)\n",
    "plt.show()"
   ]
  },
  {
   "cell_type": "code",
   "execution_count": 51,
   "id": "c229aff9",
   "metadata": {},
   "outputs": [
    {
     "name": "stdout",
     "output_type": "stream",
     "text": [
      "9376 0x24a0\n"
     ]
    }
   ],
   "source": [
    "best_offset = offsets[similarities.index(max(similarities))]\n",
    "print(best_offset, hex(best_offset))"
   ]
  },
  {
   "cell_type": "code",
   "execution_count": 52,
   "id": "a01cf501",
   "metadata": {},
   "outputs": [
    {
     "data": {
      "text/plain": [
       "array([ 31, -49, -16, ...,   2, -60, -63], dtype=int8)"
      ]
     },
     "execution_count": 52,
     "metadata": {},
     "output_type": "execute_result"
    }
   ],
   "source": [
    "app_b[:best_offset]"
   ]
  },
  {
   "cell_type": "code",
   "execution_count": null,
   "id": "ce9009ab",
   "metadata": {},
   "outputs": [],
   "source": []
  }
 ],
 "metadata": {
  "kernelspec": {
   "display_name": "Python 3 (ipykernel)",
   "language": "python",
   "name": "python3"
  },
  "language_info": {
   "codemirror_mode": {
    "name": "ipython",
    "version": 3
   },
   "file_extension": ".py",
   "mimetype": "text/x-python",
   "name": "python",
   "nbconvert_exporter": "python",
   "pygments_lexer": "ipython3",
   "version": "3.10.5"
  }
 },
 "nbformat": 4,
 "nbformat_minor": 5
}
